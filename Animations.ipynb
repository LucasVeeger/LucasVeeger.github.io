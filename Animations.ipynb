{
 "cells": [
  {
   "cell_type": "markdown",
   "id": "378f53e8-ba98-463b-a59f-f59f5a2947c3",
   "metadata": {},
   "source": [
    "# Variable injection\n",
    "### (Figure 5.2 & 5.3) \n",
    "\n",
    "#### Case 25\n",
    "![Figure_x](giphy.gif)\n",
    "\n",
    "#### Case 55\n",
    "![Figure_x](giphy.gif)\n",
    "\n",
    "#### Case 85\n",
    "![Figure_x](giphy.gif)\n",
    "\n",
    "\n",
    "# Variable shale\n",
    "### (Figure 5.4 & 5.5) \n",
    "\n",
    "#### Case 108\n",
    "![Figure_x](giphy.gif)\n",
    "\n",
    "#### Case 116\n",
    "![Figure_x](giphy.gif)\n",
    "\n",
    "#### Case 120\n",
    "![Figure_x](giphy.gif)\n",
    "\n",
    "#### Case 124\n",
    "![Figure_x](giphy.gif)\n",
    "\n",
    "# Unseen / Untrained structures\n",
    "### (Figure 5.11 & 5.12) \n",
    "\n",
    "#### Reservoir A\n",
    "![Figure_x](giphy.gif)\n",
    "\n",
    "#### Reservoir B\n",
    "![Figure_x](giphy.gif)\n",
    "\n",
    "#### Reservoir C\n",
    "![Figure_x](giphy.gif)\n"
   ]
  },
  {
   "cell_type": "code",
   "execution_count": null,
   "id": "04e002c7-da6e-4a28-a50e-862129b9f501",
   "metadata": {},
   "outputs": [],
   "source": []
  }
 ],
 "metadata": {
  "kernelspec": {
   "display_name": "Python 3 (ipykernel)",
   "language": "python",
   "name": "python3"
  },
  "language_info": {
   "codemirror_mode": {
    "name": "ipython",
    "version": 3
   },
   "file_extension": ".py",
   "mimetype": "text/x-python",
   "name": "python",
   "nbconvert_exporter": "python",
   "pygments_lexer": "ipython3",
   "version": "3.10.11"
  }
 },
 "nbformat": 4,
 "nbformat_minor": 5
}
