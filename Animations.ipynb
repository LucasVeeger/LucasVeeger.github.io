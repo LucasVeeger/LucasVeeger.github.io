{
 "cells": [
  {
   "cell_type": "markdown",
   "id": "378f53e8-ba98-463b-a59f-f59f5a2947c3",
   "metadata": {},
   "source": [
    "This webpage shows the results accompanying the figures in the thesis (CCS Reservoir \n",
    "Simulation usin \r\n",
    "Graph Neur l\r\n",
    "Networks, retrievable at https://repository.tudelft.n. Contact: ljjveeger@gmail.coml/)\n",
    "\n",
    "# Variable injection\n",
    "### (Figure 5.2 & 5.3) \n",
    "\n",
    "#### Case 25\n",
    "![Figure_x](case25_ep99_dpi100_iterated_start0_end144.gif)\n",
    "\n",
    "#### Case 55\n",
    "![Figure_x](case55_ep99_dpi100_iterated_start0_end144.gif)\n",
    "\n",
    "#### Case 85\n",
    "![Figure_x](case85_ep99_dpi100_iterated_start0_end144.gif)\n",
    "\n",
    "\n",
    "# Variable shale\n",
    "F\n",
    "For illustrative purposes, the post-injection phase (>12 years) is included in these animations. See discussion in section 4.4.3, 5.5.2 and 6.2 for more details on this part of the simulation and why it is not yet captured properlyle\n",
    "### (Figure 5.4 & 5.5) \n",
    "\n",
    "#### Case 108\n",
    "![Figure_x](case108_ep135_dpi100_iterated_start0_end160.gif)\n",
    "\n",
    "#### Case 116\n",
    "![Figure_x](case116_ep135_dpi100_iterated_start0_end160.gif)\n",
    "\n",
    "#### Case 120\n",
    "![Figure_x](case120_ep135_dpi100_iterated_start0_end160.gif)\n",
    "\n",
    "#### Case 124\n",
    "![Figure_x](case124_ep135_dpi100_iterated_start0_end160.gif)\n",
    "\n",
    "# Value bounce \n",
    "In the roll-out animation the value bounc described in the thesis (section 5.5.1)ing can clearly be observed. \n",
    "### (Simulation corresponding to data from Figure 5.8)\n",
    "![Figure_x](case112_ep159_dpi100_iterated_start0_end160.gif)\n",
    "\n",
    "# Unseen / Untrained structures\n",
    "### (Figure 5.11 & 5.12) \n",
    "\n",
    "#### Reservoir A\n",
    "![Figure_x](case141_ep135_dpi100_iterated_start0_end144.gif)\n",
    "\n",
    "#### Reservoir B\n",
    "![Figure_x](case142_ep135_dpi100_iterated_start0_end144.gif)\n",
    "\n",
    "#### Reservoir C\n",
    "![Figure_x](case143_ep135_dpi100_iterated_start0_end144.gif)\n",
    "\n",
    "\n",
    "Contact: ljjveeger@gmail.com\n"
   ]
  },
  {
   "cell_type": "code",
   "execution_count": null,
   "id": "04e002c7-da6e-4a28-a50e-862129b9f501",
   "metadata": {},
   "outputs": [],
   "source": []
  }
 ],
 "metadata": {
  "kernelspec": {
   "display_name": "Python 3 (ipykernel)",
   "language": "python",
   "name": "python3"
  },
  "language_info": {
   "codemirror_mode": {
    "name": "ipython",
    "version": 3
   },
   "file_extension": ".py",
   "mimetype": "text/x-python",
   "name": "python",
   "nbconvert_exporter": "python",
   "pygments_lexer": "ipython3",
   "version": "3.10.11"
  }
 },
 "nbformat": 4,
 "nbformat_minor": 5
}
