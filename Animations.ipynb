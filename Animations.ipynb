{
 "cells": [
  {
   "cell_type": "markdown",
   "id": "378f53e8-ba98-463b-a59f-f59f5a2947c3",
   "metadata": {},
   "source": [
    "## Picture 1\n",
    "![Figure_x](beach-boat.jpg)\n",
    "![Figure_x](test1.gif)\n",
    "![Figure_x](giphy.gif)"
   ]
  }
 ],
 "metadata": {
  "kernelspec": {
   "display_name": "Python 3 (ipykernel)",
   "language": "python",
   "name": "python3"
  },
  "language_info": {
   "codemirror_mode": {
    "name": "ipython",
    "version": 3
   },
   "file_extension": ".py",
   "mimetype": "text/x-python",
   "name": "python",
   "nbconvert_exporter": "python",
   "pygments_lexer": "ipython3",
   "version": "3.10.11"
  }
 },
 "nbformat": 4,
 "nbformat_minor": 5
}
