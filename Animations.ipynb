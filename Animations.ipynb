{
 "cells": [
  {
   "cell_type": "markdown",
   "id": "378f53e8-ba98-463b-a59f-f59f5a2947c3",
   "metadata": {},
   "source": [
    "## Picture 1\n",
    "![Figure_x](beach-boat.jpg)\n",
    "![Figure_x](test1.gif)"
   ]
  },
  {
   "cell_type": "code",
   "execution_count": null,
   "id": "f8e5443e-0e80-4500-9809-d7a3e03bbdff",
   "metadata": {},
   "outputs": [],
   "source": []
  },
  {
   "cell_type": "code",
   "execution_count": null,
   "id": "99649354-4c3f-4ed5-a7e9-135c63929253",
   "metadata": {},
   "outputs": [],
   "source": []
  },
  {
   "cell_type": "code",
   "execution_count": null,
   "id": "0a4e19b5-6729-49fb-b816-cc603399656e",
   "metadata": {},
   "outputs": [],
   "source": []
  }
 ],
 "metadata": {
  "kernelspec": {
   "display_name": "Python 3 (ipykernel)",
   "language": "python",
   "name": "python3"
  },
  "language_info": {
   "codemirror_mode": {
    "name": "ipython",
    "version": 3
   },
   "file_extension": ".py",
   "mimetype": "text/x-python",
   "name": "python",
   "nbconvert_exporter": "python",
   "pygments_lexer": "ipython3",
   "version": "3.10.11"
  }
 },
 "nbformat": 4,
 "nbformat_minor": 5
}
